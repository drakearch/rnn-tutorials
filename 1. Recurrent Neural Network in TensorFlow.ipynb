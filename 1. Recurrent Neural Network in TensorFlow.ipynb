{
 "cells": [
  {
   "cell_type": "markdown",
   "metadata": {
    "deletable": true,
    "editable": true
   },
   "source": [
    "# How to build a Recurrent Neural Network in TensorFlow\n",
    "In this tutorial I’ll explain how to build a simple working Recurrent Neural Network in TensorFlow. This is the first in a series of several parts where various aspects and techniques of building Recurrent Neural Networks in TensorFlow are covered. For now, let’s get started with the RNN!"
   ]
  },
  {
   "cell_type": "markdown",
   "metadata": {
    "deletable": true,
    "editable": true
   },
   "source": [
    "## What is a RNN?\n",
    "It is short for “Recurrent Neural Network”, and is basically a neural network that can be used when your data is treated as a sequence, where the particular order of the data-points matter. More importantly, this sequence can be of arbitrary length.\n",
    "The most straight-forward example is perhaps a time-series of numbers, where the task is to predict the next value given previous values. The input to the RNN at every time-step is the current value as well as a state vector which represent what the network has “seen” at time-steps before. This state-vector is the encoded memory of the RNN, initially set to zero.\n",
    "\n",
    "![Schematic of a RNN processing sequential data over time.](images/rnn-unrolled.png)\n",
    "\n",
    "The best and most comprehensive article explaining RNN:s I’ve found so far is [this article](https://arxiv.org/pdf/1506.00019.pdf) by researchers at UCSD, highly recommended. For now you only need to understand the basics, read it until the “Modern RNN architectures”-section. That will be covered later.\n",
    "Although this article contains some explanations, it is mostly focused on the practical part, how to build it. You are encouraged to look up more theory on the Internet, there are plenty of good explanations."
   ]
  },
  {
   "cell_type": "markdown",
   "metadata": {
    "deletable": true,
    "editable": true
   },
   "source": [
    "## Generate data"
   ]
  },
  {
   "cell_type": "code",
   "execution_count": 1,
   "metadata": {
    "collapsed": true,
    "deletable": true,
    "editable": true
   },
   "outputs": [],
   "source": [
    "from __future__ import print_function, division\n",
    "import numpy as np\n",
    "import tensorflow as tf\n",
    "import matplotlib.pyplot as plt\n",
    "\n",
    "class DataSet(object):\n",
    "    def __init__(self, binary_dim=8):\n",
    "        self.binary_dim = binary_dim\n",
    "        self.largest_number = pow(2, self.binary_dim)\n",
    "        self.batch_id = 0\n",
    "    def next(self, batch_size=5):\n",
    "        x = []\n",
    "        y = []\n",
    "        for i in range(batch_size):\n",
    "            a_int = np.random.randint(self.largest_number/2)\n",
    "            b_int = np.random.randint(self.largest_number/2)\n",
    "            c_int = a_int + b_int\n",
    "            x1 = np.unpackbits(np.array([a_int], dtype=np.uint8))\n",
    "            x2 = np.unpackbits(np.array([b_int], dtype=np.uint8))\n",
    "            y1 = np.unpackbits(np.array([c_int], dtype=np.uint8))\n",
    "            x1 = x1[::-1]\n",
    "            x2 = x2[::-1]\n",
    "            y1 = y1[::-1]\n",
    "            x.append(np.array([x1, x2]).T)\n",
    "            y.append(y1)\n",
    "        return x, y"
   ]
  },
  {
   "cell_type": "markdown",
   "metadata": {
    "deletable": true,
    "editable": true
   },
   "source": [
    "## Visualizing the stats"
   ]
  },
  {
   "cell_type": "code",
   "execution_count": 2,
   "metadata": {
    "collapsed": true,
    "deletable": true,
    "editable": true
   },
   "outputs": [],
   "source": [
    "def printStats(epoch_idx, total_loss, batchX, predictions_series):\n",
    "    index = np.random.randint(batch_size)\n",
    "    x = (batchX[index]).T\n",
    "    a = [0,0]\n",
    "    for i,b in enumerate(x):\n",
    "        for j,k in enumerate(b):\n",
    "            a[i] += k*pow(2,j)\n",
    "\n",
    "    one_hot = np.array(predictions_series)[:, index, :]\n",
    "    y = np.array([(1 if out[0] < 0.5 else 0) for out in one_hot])\n",
    "    c = 0\n",
    "    for i,b in enumerate(y):\n",
    "        c += b*pow(2,i)\n",
    "\n",
    "    print(\"Step:\",epoch_idx, \"Loss:\", total_loss, \"Example:\", a[0], \"+\", a[1], \"=\", c)"
   ]
  },
  {
   "cell_type": "markdown",
   "metadata": {
    "deletable": true,
    "editable": true
   },
   "source": [
    "## Visualizing the training"
   ]
  },
  {
   "cell_type": "code",
   "execution_count": 3,
   "metadata": {
    "collapsed": true,
    "deletable": true,
    "editable": true
   },
   "outputs": [],
   "source": [
    "def plot(loss_list, predictions_series, batchX, batchY):\n",
    "    plt.subplot(2, 3, 1)\n",
    "    plt.cla()\n",
    "    plt.plot(loss_list)\n",
    "\n",
    "    for batch_series_idx in range(min(5, batch_size)):\n",
    "        one_hot_output_series = np.array(predictions_series)[:, batch_series_idx, :]\n",
    "        single_output_series = np.array([(1 if out[0] < 0.5 else 0) for out in one_hot_output_series])\n",
    "\n",
    "        plt.subplot(2, 3, batch_series_idx + 2)\n",
    "        plt.cla()\n",
    "        plt.axis([0, truncated_backprop_length, 0, 2])\n",
    "        left_offset = range(truncated_backprop_length)\n",
    "        plt.bar(left_offset, batchY[batch_series_idx] * 0.5, width=1, color=\"red\")\n",
    "        plt.bar(left_offset, single_output_series * 0.3, width=1, color=\"green\")\n",
    "\n",
    "    plt.draw()\n",
    "    plt.pause(0.0001)\n"
   ]
  },
  {
   "cell_type": "markdown",
   "metadata": {
    "deletable": true,
    "editable": true
   },
   "source": [
    "## Setup"
   ]
  },
  {
   "cell_type": "code",
   "execution_count": 4,
   "metadata": {
    "collapsed": true,
    "deletable": true,
    "editable": true
   },
   "outputs": [],
   "source": [
    "num_epochs = 250\n",
    "truncated_backprop_length = 8\n",
    "state_size = 8\n",
    "num_classes = 2\n",
    "batch_size = 256\n",
    "learning_rate = 0.5\n",
    "\n",
    "trainset = DataSet()"
   ]
  },
  {
   "cell_type": "markdown",
   "metadata": {
    "deletable": true,
    "editable": true
   },
   "source": [
    "## Building the computational graph\n",
    "TensorFlow works by first building up a computational graph, that specifies what operations will be done. The input and output of this graph is typically multidimensional arrays, also known as tensors. The graph, or parts of it can then be executed iteratively in a session, this can either be done on the CPU, GPU or even a resource on a remote server."
   ]
  },
  {
   "cell_type": "markdown",
   "metadata": {
    "deletable": true,
    "editable": true
   },
   "source": [
    "### Variables and placeholders\n",
    "The two basic TensorFlow data-structures that will be used in this example are placeholders and variables. On each run the batch data is fed to the placeholders, which are “starting nodes” of the computational graph. Also the RNN-state is supplied in a placeholder, which is saved from the output of the previous run."
   ]
  },
  {
   "cell_type": "code",
   "execution_count": 5,
   "metadata": {
    "collapsed": true,
    "deletable": true,
    "editable": true
   },
   "outputs": [],
   "source": [
    "batchX_placeholder = tf.placeholder(tf.float32, [batch_size, truncated_backprop_length, 2])\n",
    "batchY_placeholder = tf.placeholder(tf.int32, [batch_size, truncated_backprop_length])\n",
    "\n",
    "init_state = tf.placeholder(tf.float32, [batch_size, state_size])"
   ]
  },
  {
   "cell_type": "markdown",
   "metadata": {
    "deletable": true,
    "editable": true
   },
   "source": [
    "The weights and biases of the network are declared as TensorFlow variables, which makes them persistent across runs and enables them to be updated incrementally for each batch."
   ]
  },
  {
   "cell_type": "code",
   "execution_count": 6,
   "metadata": {
    "collapsed": true,
    "deletable": true,
    "editable": true
   },
   "outputs": [],
   "source": [
    "W = tf.Variable(2*np.random.random((state_size+2, state_size))-1, dtype=tf.float32)\n",
    "b = tf.Variable(np.zeros((1,state_size)), dtype=tf.float32)\n",
    "\n",
    "W2 = tf.Variable(2*np.random.random((state_size, num_classes))-1,dtype=tf.float32)\n",
    "b2 = tf.Variable(np.zeros((1,num_classes)), dtype=tf.float32)"
   ]
  },
  {
   "cell_type": "markdown",
   "metadata": {
    "deletable": true,
    "editable": true
   },
   "source": [
    "### Unpacking\n",
    "Now it’s time to build the part of the graph that resembles the actual RNN computation, first we want to split the batch data into adjacent time-steps."
   ]
  },
  {
   "cell_type": "code",
   "execution_count": 7,
   "metadata": {
    "collapsed": false,
    "deletable": true,
    "editable": true
   },
   "outputs": [
    {
     "name": "stdout",
     "output_type": "stream",
     "text": [
      "inputs_series:  [<tf.Tensor 'unstack:0' shape=(256, 2) dtype=float32>, <tf.Tensor 'unstack:1' shape=(256, 2) dtype=float32>, <tf.Tensor 'unstack:2' shape=(256, 2) dtype=float32>, <tf.Tensor 'unstack:3' shape=(256, 2) dtype=float32>, <tf.Tensor 'unstack:4' shape=(256, 2) dtype=float32>, <tf.Tensor 'unstack:5' shape=(256, 2) dtype=float32>, <tf.Tensor 'unstack:6' shape=(256, 2) dtype=float32>, <tf.Tensor 'unstack:7' shape=(256, 2) dtype=float32>]\n",
      "\n",
      "labels_series:  [<tf.Tensor 'unstack_1:0' shape=(256,) dtype=int32>, <tf.Tensor 'unstack_1:1' shape=(256,) dtype=int32>, <tf.Tensor 'unstack_1:2' shape=(256,) dtype=int32>, <tf.Tensor 'unstack_1:3' shape=(256,) dtype=int32>, <tf.Tensor 'unstack_1:4' shape=(256,) dtype=int32>, <tf.Tensor 'unstack_1:5' shape=(256,) dtype=int32>, <tf.Tensor 'unstack_1:6' shape=(256,) dtype=int32>, <tf.Tensor 'unstack_1:7' shape=(256,) dtype=int32>]\n",
      "\n"
     ]
    }
   ],
   "source": [
    "# Unpack columns\n",
    "inputs_series = tf.unstack(batchX_placeholder, axis=1)\n",
    "labels_series = tf.unstack(batchY_placeholder, axis=1)\n",
    "print(\"inputs_series: \", inputs_series)\n",
    "print()\n",
    "print(\"labels_series: \", labels_series)\n",
    "print()"
   ]
  },
  {
   "cell_type": "markdown",
   "metadata": {
    "deletable": true,
    "editable": true
   },
   "source": [
    "### Forward pass\n",
    "Next let’s build the part of the graph that does the actual RNN computation."
   ]
  },
  {
   "cell_type": "code",
   "execution_count": 8,
   "metadata": {
    "collapsed": false,
    "deletable": true,
    "editable": true
   },
   "outputs": [
    {
     "name": "stdout",
     "output_type": "stream",
     "text": [
      "states_series:  [<tf.Tensor 'Tanh:0' shape=(256, 8) dtype=float32>, <tf.Tensor 'Tanh_1:0' shape=(256, 8) dtype=float32>, <tf.Tensor 'Tanh_2:0' shape=(256, 8) dtype=float32>, <tf.Tensor 'Tanh_3:0' shape=(256, 8) dtype=float32>, <tf.Tensor 'Tanh_4:0' shape=(256, 8) dtype=float32>, <tf.Tensor 'Tanh_5:0' shape=(256, 8) dtype=float32>, <tf.Tensor 'Tanh_6:0' shape=(256, 8) dtype=float32>, <tf.Tensor 'Tanh_7:0' shape=(256, 8) dtype=float32>]\n",
      "\n",
      "current_series:  Tensor(\"Tanh_7:0\", shape=(256, 8), dtype=float32)\n",
      "\n"
     ]
    }
   ],
   "source": [
    "# Forward pass\n",
    "current_state = init_state\n",
    "states_series = []\n",
    "for current_input in inputs_series:\n",
    "    current_input = tf.reshape(current_input, [batch_size, -1])\n",
    "    input_and_state_concatenated = tf.concat([current_input, current_state], 1)  # Increasing number of columns\n",
    "    next_state = tf.tanh(tf.matmul(input_and_state_concatenated, W) + b)  # Broadcasted addition\n",
    "    states_series.append(next_state)\n",
    "    current_state = next_state\n",
    "print(\"states_series: \", states_series)\n",
    "print()\n",
    "print(\"current_series: \", current_state)\n",
    "print()"
   ]
  },
  {
   "cell_type": "markdown",
   "metadata": {
    "deletable": true,
    "editable": true
   },
   "source": [
    "### Calculating loss\n",
    "This is the final part of the graph, a fully connected softmax layer from the state to the output that will make the classes one-hot encoded, and then calculating the loss of the batch."
   ]
  },
  {
   "cell_type": "code",
   "execution_count": 9,
   "metadata": {
    "collapsed": false,
    "deletable": true,
    "editable": true
   },
   "outputs": [
    {
     "name": "stdout",
     "output_type": "stream",
     "text": [
      "logits_series:  [<tf.Tensor 'add_8:0' shape=(256, 2) dtype=float32>, <tf.Tensor 'add_9:0' shape=(256, 2) dtype=float32>, <tf.Tensor 'add_10:0' shape=(256, 2) dtype=float32>, <tf.Tensor 'add_11:0' shape=(256, 2) dtype=float32>, <tf.Tensor 'add_12:0' shape=(256, 2) dtype=float32>, <tf.Tensor 'add_13:0' shape=(256, 2) dtype=float32>, <tf.Tensor 'add_14:0' shape=(256, 2) dtype=float32>, <tf.Tensor 'add_15:0' shape=(256, 2) dtype=float32>]\n",
      "\n"
     ]
    }
   ],
   "source": [
    "logits_series = [tf.matmul(state, W2) + b2 for state in states_series] #Broadcasted addition\n",
    "predictions_series = [tf.nn.softmax(logits) for logits in logits_series]\n",
    "print(\"logits_series: \", logits_series)\n",
    "print()\n",
    "\n",
    "losses = [tf.nn.sparse_softmax_cross_entropy_with_logits(logits=logits, labels=labels) for logits, labels in zip(logits_series,labels_series)]\n",
    "total_loss = tf.reduce_mean(losses)\n",
    "\n",
    "train_step = tf.train.AdagradOptimizer(learning_rate).minimize(total_loss)"
   ]
  },
  {
   "cell_type": "markdown",
   "metadata": {
    "deletable": true,
    "editable": true
   },
   "source": [
    "## Running a training session\n",
    "It’s time to wrap up and train the network, in TensorFlow the graph is executed in a session. New data is generated on each epoch (not the usual way to do it, but it works in this case since everything is predictable)."
   ]
  },
  {
   "cell_type": "code",
   "execution_count": 10,
   "metadata": {
    "collapsed": false,
    "deletable": true,
    "editable": true
   },
   "outputs": [
    {
     "name": "stdout",
     "output_type": "stream",
     "text": [
      "Step: 0 Loss: 0.834593 Example: 92 + 63 = 0\n",
      "Step: 20 Loss: 0.69422 Example: 47 + 15 = 88\n",
      "Step: 40 Loss: 0.68858 Example: 74 + 102 = 218\n",
      "Step: 60 Loss: 0.680007 Example: 109 + 78 = 221\n",
      "Step: 80 Loss: 0.671441 Example: 46 + 99 = 46\n",
      "Step: 100 Loss: 0.649825 Example: 42 + 28 = 122\n",
      "Step: 120 Loss: 0.587651 Example: 90 + 58 = 246\n",
      "Step: 140 Loss: 0.424156 Example: 80 + 100 = 148\n",
      "Step: 160 Loss: 0.273632 Example: 66 + 34 = 228\n",
      "Step: 180 Loss: 0.0610362 Example: 91 + 98 = 189\n",
      "Step: 200 Loss: 0.0374764 Example: 89 + 90 = 179\n",
      "Step: 220 Loss: 0.027402 Example: 44 + 49 = 93\n",
      "Step: 240 Loss: 0.0207118 Example: 20 + 1 = 21\n"
     ]
    },
    {
     "data": {
      "image/png": "[encoded data removed]",
      "text/plain": [
       "<matplotlib.figure.Figure at 0x20adc26ef60>"
      ]
     },
     "metadata": {},
     "output_type": "display_data"
    }
   ],
   "source": [
    "with tf.Session() as sess:\n",
    "    sess.run(tf.global_variables_initializer())\n",
    "    plt.ion()\n",
    "    #plt.figure()\n",
    "    plt.show()\n",
    "    loss_list = []\n",
    "    _current_state = np.zeros((batch_size, state_size))\n",
    "\n",
    "    for epoch_idx in range(num_epochs):\n",
    "        batchX,batchY = trainset.next(batch_size)\n",
    "        _total_loss, _train_step, _current_state, _predictions_series = sess.run(\n",
    "                [total_loss, train_step, current_state, predictions_series],\n",
    "                feed_dict={\n",
    "                    batchX_placeholder:batchX,\n",
    "                    batchY_placeholder:batchY,\n",
    "                    init_state:_current_state\n",
    "                })\n",
    "\n",
    "        loss_list.append(_total_loss)\n",
    "        plot(loss_list, _predictions_series, batchX, batchY)\n",
    "\n",
    "        if epoch_idx%20 == 0:\n",
    "            printStats(epoch_idx, _total_loss, batchX, _predictions_series)\n",
    "            \n",
    "#plt.ioff()\n",
    "plt.show()"
   ]
  },
  {
   "cell_type": "code",
   "execution_count": null,
   "metadata": {
    "collapsed": true,
    "deletable": true,
    "editable": true
   },
   "outputs": [],
   "source": []
  }
 ],
 "metadata": {
  "kernelspec": {
   "display_name": "Python 3",
   "language": "python",
   "name": "python3"
  },
  "language_info": {
   "codemirror_mode": {
    "name": "ipython",
    "version": 3
   },
   "file_extension": ".py",
   "mimetype": "text/x-python",
   "name": "python",
   "nbconvert_exporter": "python",
   "pygments_lexer": "ipython3",
   "version": "3.5.2"
  }
 },
 "nbformat": 4,
 "nbformat_minor": 2
}
